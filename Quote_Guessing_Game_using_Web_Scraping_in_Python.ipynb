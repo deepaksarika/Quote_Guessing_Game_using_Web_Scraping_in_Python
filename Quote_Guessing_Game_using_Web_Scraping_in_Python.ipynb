{
  "nbformat": 4,
  "nbformat_minor": 0,
  "metadata": {
    "colab": {
      "provenance": [],
      "authorship_tag": "ABX9TyOnLqCBbmHgHvC7tkx6+qUR",
      "include_colab_link": true
    },
    "kernelspec": {
      "name": "python3",
      "display_name": "Python 3"
    },
    "language_info": {
      "name": "python"
    }
  },
  "cells": [
    {
      "cell_type": "markdown",
      "metadata": {
        "id": "view-in-github",
        "colab_type": "text"
      },
      "source": [
        "<a href=\"https://colab.research.google.com/github/deepaksarika/Quote_Guessing_Game_using_Web_Scraping_in_Python/blob/main/Quote_Guessing_Game_using_Web_Scraping_in_Python.ipynb\" target=\"_parent\"><img src=\"https://colab.research.google.com/assets/colab-badge.svg\" alt=\"Open In Colab\"/></a>"
      ]
    },
    {
      "cell_type": "code",
      "execution_count": 4,
      "metadata": {
        "colab": {
          "base_uri": "https://localhost:8080/"
        },
        "id": "pnIObwu2jNQz",
        "outputId": "4ef6c6ae-a8a8-4e9b-a450-8919434b2e93"
      },
      "outputs": [
        {
          "output_type": "stream",
          "name": "stdout",
          "text": [
            "Now Scrapinghttp://quotes.toscrape.com//page/1\n",
            "Here's a quote: \n",
            "“There are only two ways to live your life. One is as though nothing is a miracle. The other is as though everything is a miracle.”\n",
            "Who said this quote? Guesses remaining 4g\n",
            "Here's a hint: The author was born on March 14, 1879in Ulm, Germany\n",
            "Who said this quote? Guesses remaining 3l\n",
            "Here's a hint: The author's first name starts with: A\n",
            "Who said this quote? Guesses remaining 2as\n",
            "Here's a hint: The author's last name starts with: E\n",
            "Who said this quote? Guesses remaining 1ae\n",
            "Sorry, you ran out of guesses. The answer was Albert Einstein\n"
          ]
        }
      ],
      "source": [
        "import requests\n",
        "from bs4 import BeautifulSoup\n",
        "from csv import writer\n",
        "from time import sleep\n",
        "from random import choice\n",
        "\n",
        "# list to store scraped data\n",
        "all_quotes = []\n",
        "\n",
        "# this part of the url is constant\n",
        "base_url = \"http://quotes.toscrape.com/\"\n",
        "\n",
        "# this part of the url will keep changing\n",
        "url = \"/page/1\"\n",
        "\n",
        "while url:\n",
        "\n",
        "\t# concatenating both urls\n",
        "\t# making request\n",
        "\tres = requests.get(f\"{base_url}{url}\")\n",
        "\tprint(f\"Now Scraping{base_url}{url}\")\n",
        "\tsoup = BeautifulSoup(res.text, \"html.parser\")\n",
        "\n",
        "\t# extracting all elements\n",
        "\tquotes = soup.find_all(class_=\"quote\")\n",
        "\n",
        "\tfor quote in quotes:\n",
        "\t\tall_quotes.append({\n",
        "\t\t\t\"text\": quote.find(class_=\"text\").get_text(),\n",
        "\t\t\t\"author\": quote.find(class_=\"author\").get_text(),\n",
        "\t\t\t\"bio-link\": quote.find(\"a\")[\"href\"]\n",
        "\t\t})\n",
        "\tnext_btn = soup.find(_class=\"next\")\n",
        "\turl = next_btn.find(\"a\")[\"href\"] if next_btn else None\n",
        "\tsleep(2)\n",
        "\n",
        "quote = choice(all_quotes)\n",
        "remaining_guesses = 4\n",
        "print(\"Here's a quote: \")\n",
        "print(quote[\"text\"])\n",
        "\n",
        "guess = ''\n",
        "while guess.lower() != quote[\"author\"].lower() and remaining_guesses > 0:\n",
        "\tguess = input(\n",
        "\t\tf\"Who said this quote? Guesses remaining {remaining_guesses}\")\n",
        "\n",
        "\tif guess == quote[\"author\"]:\n",
        "\t\tprint(\"CONGRATULATIONS!!! YOU GOT IT RIGHT\")\n",
        "\t\tbreak\n",
        "\tremaining_guesses -= 1\n",
        "\n",
        "\tif remaining_guesses == 3:\n",
        "\t\tres = requests.get(f\"{base_url}{quote['bio-link']}\")\n",
        "\t\tsoup = BeautifulSoup(res.text, \"html.parser\")\n",
        "\t\tbirth_date = soup.find(class_=\"author-born-date\").get_text()\n",
        "\t\tbirth_place = soup.find(class_=\"author-born-location\").get_text()\n",
        "\t\tprint(\n",
        "\t\t\tf\"Here's a hint: The author was born on {birth_date}{birth_place}\")\n",
        "\n",
        "\telif remaining_guesses == 2:\n",
        "\t\tprint(\n",
        "\t\t\tf\"Here's a hint: The author's first name starts with: {quote['author'][0]}\")\n",
        "\n",
        "\telif remaining_guesses == 1:\n",
        "\t\tlast_initial = quote[\"author\"].split(\" \")[1][0]\n",
        "\t\tprint(\n",
        "\t\t\tf\"Here's a hint: The author's last name starts with: {last_initial}\")\n",
        "\n",
        "\telse:\n",
        "\t\tprint(\n",
        "\t\t\tf\"Sorry, you ran out of guesses. The answer was {quote['author']}\")\n"
      ]
    }
  ]
}